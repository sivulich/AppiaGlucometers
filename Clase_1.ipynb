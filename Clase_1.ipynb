{
  "nbformat": 4,
  "nbformat_minor": 0,
  "metadata": {
    "colab": {
      "name": "Clase 1.ipynb",
      "provenance": [],
      "collapsed_sections": [],
      "authorship_tag": "ABX9TyOU0SswisIo8OrmVV8+YOSg",
      "include_colab_link": true
    },
    "kernelspec": {
      "name": "python3",
      "display_name": "Python 3"
    },
    "language_info": {
      "name": "python"
    }
  },
  "cells": [
    {
      "cell_type": "markdown",
      "metadata": {
        "id": "view-in-github",
        "colab_type": "text"
      },
      "source": [
        "<a href=\"https://colab.research.google.com/github/sivulich/AppiaGlucometers/blob/master/Clase_1.ipynb\" target=\"_parent\"><img src=\"https://colab.research.google.com/assets/colab-badge.svg\" alt=\"Open In Colab\"/></a>"
      ]
    },
    {
      "cell_type": "markdown",
      "source": [
        "![Logo Itba](https://raw.githubusercontent.com/ITBA-Python/Certificacion-Profesional-Python/main/assets/clase1/logo-itba.png)\n",
        "\n",
        "# Certificación profesional de Python\n",
        "\n",
        "El objetivo de la clase es brindar una introducción al mundo de la programación, presentando los conceptos basicos de informatica.\n",
        "\n",
        "La clase busca también explicar el entorno de trabajo y las metodologías utilizadas durante el curso."
      ],
      "metadata": {
        "id": "-TUcZs7nWywn"
      }
    },
    {
      "cell_type": "markdown",
      "source": [
        "# Entorno de trabajo\n",
        "\n",
        "Para trabajar durante el curso utilizaremos [Google Colab](https://colab.research.google.com/?hl=es) una herramienta gratis de google que nos permite facilmente trabjar con Python desde cualquier computadora utilizando un navegador web.\n",
        "\n",
        "Este entorno nos permite mezclar código, teoría, gráficos, ecuaciones matemáticas y multimedia en un mismo archivo, facilitando la distribución y presentación de los temas. Ademas permite que desarrollemos la clase en una misma plataforma evitando problemas de compatibilidad con las distintas computadoras y sistemas operativos de cada uno.\n",
        "\n",
        "**NOTA:** Si no poseen una cuenta de Google es necesario que se creen una para realizar el curso.\n",
        "\n",
        "## Guardar clase en su drive\n",
        "\n",
        "Les recomendamos guardar esta clase en su google drive personal para que puedan mantener sus notas y ejercicios realizados durante la clase.\n",
        "\n",
        "Para realizar esto deben presionar:\n",
        "\n",
        "![Instructivo para guardar](https://raw.githubusercontent.com/ITBA-Python/Certificacion-Profesional-Python/main/assets/clase1/guardar-en-drive.png)\n",
        "\n",
        "Una vez guardado si quieren seguir trabjando pueden abrirlo directamente desde su Google Drive.\n",
        "\n",
        "\n"
      ],
      "metadata": {
        "id": "o9M3M7L0X1nL"
      }
    },
    {
      "cell_type": "markdown",
      "source": [
        "# Introducción a la programación\n",
        "\n",
        "La programación es el proceso que se utiliza para diseñar e implementar una aplicación informatica, utilizando algún lenguaje que permita comunicar y describir una serie de instrucciones que se requiere que la computadora ejecute. Podemos pensar que es una caja negra que recibe alguna información, la cual es llamada input (entrada), realiza alguna acción, y devuelve información, la cual es llamada output (salida)\n",
        "\n",
        "![Caja negra con entrada y salidas](https://raw.githubusercontent.com/ITBA-Python/Certificacion-Profesional-Python/main/assets/clase1/black-box.png)\n",
        "\n",
        "## Lenguajes de programación\n",
        "Los lenguajes de programación son [lenguajes formales](https://es.wikipedia.org/wiki/Lenguaje_formal) que proporciona una serie de palabras o instrucciones, las cuales permiten a un programador comunicarle a la computadora una secuencia de órdenes. Estas ordenes son interpretadas y ejecutadas por el CPU de la computadora, con el objetivo de que produzca efectos o acciones deseadas por el programador.\n",
        "\n",
        "Cada lenguaje es construido sobre una base de otro lenguaje mas simple.\n",
        "\n",
        "Los lenguajes de programación son creados debido a que existe una necesidad entre la comunidad de programadores de poseer una interfaz simplificada para realizar algun conjunto de tareas. Por ejemplo el lenguaje SQL es utilizado para la interacción con bases de datos estructuradas, o el lenguaje javascript es utilizado para programar páginas web."
      ],
      "metadata": {
        "id": "4BLvfQTTXuDm"
      }
    },
    {
      "cell_type": "markdown",
      "source": [
        "# Arquitecturas de computadoras"
      ],
      "metadata": {
        "id": "3i49VybJX386"
      }
    },
    {
      "cell_type": "markdown",
      "source": [
        "# Instalación de Python"
      ],
      "metadata": {
        "id": "pLCPDmRHX6f7"
      }
    },
    {
      "cell_type": "markdown",
      "source": [
        "# Control de versiones: GIT"
      ],
      "metadata": {
        "id": "t1pL8eCHX9NH"
      }
    }
  ]
}